{
 "cells": [
  {
   "cell_type": "code",
   "id": "initial_id",
   "metadata": {},
   "source": [
    "import datasets\n",
    "\n",
    "# Load dataset\n",
    "dataset = datasets.load_from_disk('./partial_data')"
   ],
   "outputs": [],
   "execution_count": null
  },
  {
   "cell_type": "code",
   "id": "d449f1eb8a9e9dcb",
   "metadata": {},
   "source": [
    "train_split = dataset['train']\n",
    "train_split[0]"
   ],
   "outputs": [],
   "execution_count": null
  },
  {
   "cell_type": "code",
   "id": "12c21d25-b2d8-460e-b97c-f9c610bc284f",
   "metadata": {},
   "source": [
    "from transformers import VisionTextDualEncoderModel, VisionTextDualEncoderProcessor\n",
    "\n",
    "# load model\n",
    "model = VisionTextDualEncoderModel.from_pretrained(\"kaveh/rclip\")\n",
    "processor = VisionTextDualEncoderProcessor.from_pretrained(\"kaveh/rclip\")"
   ],
   "outputs": [],
   "execution_count": null
  },
  {
   "cell_type": "code",
   "id": "f2162d39-26f7-4443-a4c3-0e0100e875b5",
   "metadata": {},
   "source": [
    "from torch.utils.data import Dataset, DataLoader\n",
    "\n",
    "class ImageDataset(Dataset):\n",
    "    def __init__(self, split):\n",
    "        self.split = split\n",
    "\n",
    "    def __len__(self):\n",
    "        return len(self.split)\n",
    "\n",
    "    def __getitem__(self, idx):\n",
    "        return idx, self.split[idx]['images'][0]"
   ],
   "outputs": [],
   "execution_count": null
  },
  {
   "cell_type": "code",
   "id": "0d6ba908-e824-47a6-b478-477232abcd26",
   "metadata": {},
   "source": [
    "import torch\n",
    "\n",
    "if torch.cuda.is_available():\n",
    "    model = model.cuda()"
   ],
   "outputs": [],
   "execution_count": null
  },
  {
   "cell_type": "code",
   "id": "5a29b3cd-f826-47fa-96eb-eaaea1ad2a85",
   "metadata": {},
   "source": [
    "image_dataset = ImageDataset(train_split)\n",
    "\n",
    "def collate(batch):\n",
    "    indices = [item[0] for item in batch]\n",
    "    images = [item[1] for item in batch]\n",
    "    return indices, images\n",
    "\n",
    "data_loader = DataLoader(image_dataset, batch_size=2560, shuffle=False, collate_fn=collate, num_workers=4, persistent_workers=True)"
   ],
   "outputs": [],
   "execution_count": null
  },
  {
   "cell_type": "code",
   "id": "51eec8a3-46d5-455a-b793-7eca8398a0b2",
   "metadata": {},
   "source": [
    "from tqdm.notebook import tqdm\n",
    "import json\n",
    "\n",
    "def to_cuda(data):\n",
    "    for k, v in data.items():\n",
    "        if hasattr(v, 'to'):\n",
    "            data[k] = v.to('cuda')\n",
    "        else:\n",
    "            data[k] = v\n",
    "\n",
    "with open(\"image_embeddings.jsonl\", 'w') as f:\n",
    "    # Generate and save embeddings\n",
    "    for idxs, batch_images in tqdm(data_loader):\n",
    "        with torch.no_grad():\n",
    "            inputs = processor(text=None, images=batch_images, return_tensors=\"pt\", padding=True)\n",
    "            to_cuda(inputs)\n",
    "            outputs = model.get_image_features(**inputs)\n",
    "        for idx, output in zip(idxs, outputs):\n",
    "            embedding_dict = {'index': idx, 'embedding': output.cpu().numpy().tolist()}\n",
    "            json.dump(embedding_dict, f)\n",
    "            f.write('\\n')"
   ],
   "outputs": [],
   "execution_count": null
  },
  {
   "cell_type": "code",
   "id": "801e45a2-0db2-431d-bc61-9d4f7eb8f88f",
   "metadata": {},
   "source": [],
   "outputs": [],
   "execution_count": null
  }
 ],
 "metadata": {
  "kernelspec": {
   "display_name": "Python 3",
   "language": "python",
   "name": "python3"
  },
  "language_info": {
   "codemirror_mode": {
    "name": "ipython",
    "version": 3
   },
   "file_extension": ".py",
   "mimetype": "text/x-python",
   "name": "python",
   "nbconvert_exporter": "python",
   "pygments_lexer": "ipython3",
   "version": "3.9.19"
  }
 },
 "nbformat": 4,
 "nbformat_minor": 5
}
