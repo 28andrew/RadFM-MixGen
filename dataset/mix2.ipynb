{
 "cells": [
  {
   "cell_type": "code",
   "id": "609a0e4a-b10d-44f3-9ea1-8cdbc68e7eee",
   "metadata": {},
   "source": [
    "import pickle\n",
    "\n",
    "with open('similar_pairs.pkl', 'rb') as file:\n",
    "    similar_pairs = pickle.load(file)"
   ],
   "outputs": [],
   "execution_count": null
  },
  {
   "cell_type": "code",
   "id": "f59dcb99-60f7-4491-9af7-1ad023f110c8",
   "metadata": {},
   "source": [
    "similar_pairs[:10], len(similar_pairs)"
   ],
   "outputs": [],
   "execution_count": null
  },
  {
   "cell_type": "code",
   "id": "b1c14c38-2c04-4f2f-b75b-de42aa4b7f88",
   "metadata": {},
   "source": [
    "import datasets\n",
    "\n",
    "# Load dataset\n",
    "dataset = datasets.load_from_disk('./partial_data')\n",
    "\n",
    "train_split = dataset['train']\n",
    "train_split[0]"
   ],
   "outputs": [],
   "execution_count": null
  },
  {
   "cell_type": "code",
   "id": "b4a8e994-80ea-4066-8c8a-1e458f659e73",
   "metadata": {},
   "source": [
    "pair = similar_pairs[9999]\n",
    "train_split[pair[0]]['images'][0]"
   ],
   "outputs": [],
   "execution_count": null
  },
  {
   "cell_type": "code",
   "id": "151ef5a8-5d4e-4055-9784-4b86ec46a0b1",
   "metadata": {},
   "source": [
    "train_split[pair[1]]['images'][0]"
   ],
   "outputs": [],
   "execution_count": null
  },
  {
   "cell_type": "code",
   "id": "f88ff30c-a2d4-4727-acf8-86801710ae65",
   "metadata": {},
   "source": [
    "train_split[pair[0]]['findings'], train_split[pair[1]]['findings']"
   ],
   "outputs": [],
   "execution_count": null
  },
  {
   "cell_type": "code",
   "id": "ebfd0017-77f6-4743-a377-4601646242f3",
   "metadata": {},
   "source": [
    "train_split[pair[0]]['impression'], train_split[pair[1]]['impression']"
   ],
   "outputs": [],
   "execution_count": null
  },
  {
   "cell_type": "code",
   "id": "22ccc260-cfb4-48ea-b32b-64c381c4733d",
   "metadata": {},
   "source": [
    "from tqdm.notebook import tqdm\n",
    "from PIL import Image\n",
    "import multiprocessing\n",
    "import pickle\n",
    "from functools import partial\n",
    "\n",
    "def merge_images(image_a, image_b):\n",
    "    if image_a.size[0] * image_a.size[1] < image_b.size[0] * image_b.size[1]:\n",
    "        base = image_b\n",
    "        overlay = image_a\n",
    "    else:\n",
    "        base = image_a\n",
    "        overlay = image_b\n",
    "\n",
    "    base = base.convert(\"RGBA\")\n",
    "    overlay = overlay.convert(\"RGBA\")\n",
    "\n",
    "    overlay_with_transparency = Image.new(\"RGBA\", overlay.size)\n",
    "    for x in range(overlay.width):\n",
    "        for y in range(overlay.height):\n",
    "            r, g, b, a = overlay.getpixel((x, y))\n",
    "            overlay_with_transparency.putpixel((x, y), (r, g, b, int(a * 0.5)))\n",
    "\n",
    "    base.paste(overlay_with_transparency, (0, 0), overlay_with_transparency)\n",
    "    return base.convert(\"RGB\")\n",
    "\n",
    "def process_pair(pair, train_split):\n",
    "    idx_a, idx_b = pair\n",
    "    image_a = train_split[idx_a]['images'][0]\n",
    "    image_b = train_split[idx_b]['images'][0]\n",
    "    findings_a = train_split[idx_a]['findings']\n",
    "    findings_b = train_split[idx_b]['findings']\n",
    "    impression_a = train_split[idx_a]['impression']\n",
    "    impression_b = train_split[idx_b]['impression']\n",
    "    merged_image = merge_images(image_a, image_b)\n",
    "    return {\n",
    "        'source': 'mixgen',\n",
    "        'images': merged_image,\n",
    "        'impression_a': impression_a,\n",
    "        'impression_b': impression_b,\n",
    "        'findings_a': findings_a,\n",
    "        'findings_b': findings_b\n",
    "    }"
   ],
   "outputs": [],
   "execution_count": null
  },
  {
   "cell_type": "code",
   "id": "c544cb6d-aadd-4237-a084-b3ce99c33b7f",
   "metadata": {},
   "source": [
    "pool = multiprocessing.Pool(processes=multiprocessing.cpu_count())\n",
    "all_data = list(tqdm(pool.imap(partial(process_pair, train_split=train_split), similar_pairs), total=len(similar_pairs)))\n",
    "pool.close()\n",
    "pool.join()\n",
    "\n",
    "with open('data_with_imgs.pkl', 'wb') as file:\n",
    "    pickle.dump(all_data, file)\n",
    "\n",
    "print(len(all_data))"
   ],
   "outputs": [],
   "execution_count": null
  },
  {
   "cell_type": "code",
   "id": "d591d66d-3782-4aa9-8fb7-c314daba277f",
   "metadata": {},
   "source": [],
   "outputs": [],
   "execution_count": null
  }
 ],
 "metadata": {
  "kernelspec": {
   "display_name": "Python 3",
   "language": "python",
   "name": "python3"
  },
  "language_info": {
   "codemirror_mode": {
    "name": "ipython",
    "version": 3
   },
   "file_extension": ".py",
   "mimetype": "text/x-python",
   "name": "python",
   "nbconvert_exporter": "python",
   "pygments_lexer": "ipython3",
   "version": "3.9.19"
  }
 },
 "nbformat": 4,
 "nbformat_minor": 5
}
