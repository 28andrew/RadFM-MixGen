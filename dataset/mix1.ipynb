{
 "cells": [
  {
   "cell_type": "code",
   "id": "68d86ffe-230a-40ca-b255-5972138f4426",
   "metadata": {},
   "source": [
    "import datasets\n",
    "\n",
    "# Load dataset\n",
    "dataset = datasets.load_from_disk('./partial_data')\n",
    "\n",
    "train_split = dataset['train']\n",
    "train_split[0]"
   ],
   "outputs": [],
   "execution_count": null
  },
  {
   "cell_type": "code",
   "id": "fc91eec6-a81a-432e-833c-ba740048aa57",
   "metadata": {},
   "source": [
    "import json\n",
    "import numpy as np\n",
    "from tqdm.notebook import tqdm\n",
    "\n",
    "def load_embeddings(file_path):\n",
    "    embeddings = []\n",
    "    original_indices = []\n",
    "    with open(file_path, 'r') as file:\n",
    "        for line in tqdm(file):\n",
    "            data = json.loads(line)\n",
    "            embeddings.append(data['embedding'])\n",
    "            original_indices.append(data['index'])\n",
    "    return np.array(embeddings).astype('float32'), original_indices"
   ],
   "outputs": [],
   "execution_count": null
  },
  {
   "cell_type": "code",
   "id": "60050cd9-604d-4a5b-8720-2bff8ce821cd",
   "metadata": {},
   "source": [
    "import faiss\n",
    "\n",
    "def find_most_similar_pairs(embeddings, k=2, use_gpu=True):\n",
    "    num_neighbors = k + 1\n",
    "    dimension = embeddings.shape[1]\n",
    "\n",
    "\n",
    "    cpu_index = faiss.IndexFlatL2(dimension)\n",
    "\n",
    "\n",
    "    if use_gpu:\n",
    "        \n",
    "        gpu_index = faiss.index_cpu_to_gpu(faiss.StandardGpuResources(), 0, cpu_index)\n",
    "    else:\n",
    "        gpu_index = cpu_index\n",
    "\n",
    "    \n",
    "    gpu_index.add(embeddings)\n",
    "\n",
    "    \n",
    "    distances, indices = gpu_index.search(embeddings, num_neighbors)\n",
    "\n",
    "    return distances, indices"
   ],
   "outputs": [],
   "execution_count": null
  },
  {
   "cell_type": "code",
   "id": "5ad212b5-88a3-4dcd-b308-72e8dffb3490",
   "metadata": {},
   "source": [
    "def extract_pairs(indices, original_indices, distances, num_pairs=50000):\n",
    "    unique_pairs = set()\n",
    "    for i in range(indices.shape[0]):\n",
    "        for j in range(1, indices.shape[1]):\n",
    "            if (original_indices[indices[i, j]], original_indices[i]) not in unique_pairs:\n",
    "                unique_pairs.add((original_indices[i], original_indices[indices[i, j]]))\n",
    "\n",
    "                # Break after collecting enough pairs\n",
    "                if len(unique_pairs) == num_pairs:\n",
    "                    return list(unique_pairs)\n",
    "    return list(unique_pairs)"
   ],
   "outputs": [],
   "execution_count": null
  },
  {
   "cell_type": "code",
   "id": "b2f22f0e-4e76-4b6d-affd-ab076c7e836b",
   "metadata": {},
   "source": [
    "embeddings, original_indices = load_embeddings(\"image_embeddings.jsonl\")"
   ],
   "outputs": [],
   "execution_count": null
  },
  {
   "cell_type": "code",
   "id": "352ca04d-62fa-425b-9883-5ecc3f596f9e",
   "metadata": {},
   "source": [
    "distances, indices = find_most_similar_pairs(embeddings, use_gpu=False)"
   ],
   "outputs": [],
   "execution_count": null
  },
  {
   "cell_type": "code",
   "id": "c646e01e-face-4965-badb-3b84c4dd7af4",
   "metadata": {},
   "source": [
    "similar_pairs = extract_pairs(indices, original_indices, distances, num_pairs=100000)"
   ],
   "outputs": [],
   "execution_count": null
  },
  {
   "cell_type": "code",
   "id": "c820aa24-0361-49bf-93fd-79415165e4b1",
   "metadata": {},
   "source": [
    "import pickle\n",
    "\n",
    "with open('similar_pairs.pkl', 'wb') as file:\n",
    "    pickle.dump(similar_pairs, file)"
   ],
   "outputs": [],
   "execution_count": null
  },
  {
   "cell_type": "code",
   "id": "1fd4009c-1799-401c-8773-5daf93afd4b1",
   "metadata": {},
   "source": [],
   "outputs": [],
   "execution_count": null
  }
 ],
 "metadata": {
  "kernelspec": {
   "display_name": "Python 3",
   "language": "python",
   "name": "python3"
  },
  "language_info": {
   "codemirror_mode": {
    "name": "ipython",
    "version": 3
   },
   "file_extension": ".py",
   "mimetype": "text/x-python",
   "name": "python",
   "nbconvert_exporter": "python",
   "pygments_lexer": "ipython3",
   "version": "3.9.19"
  }
 },
 "nbformat": 4,
 "nbformat_minor": 5
}
